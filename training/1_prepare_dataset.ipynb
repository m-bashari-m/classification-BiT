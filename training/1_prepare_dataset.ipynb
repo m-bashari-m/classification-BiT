{
 "cells": [
  {
   "cell_type": "markdown",
   "id": "f4592e56",
   "metadata": {},
   "source": [
    "## Full dataset"
   ]
  },
  {
   "cell_type": "markdown",
   "id": "f5d3f81d",
   "metadata": {},
   "source": [
    "Splited by classes"
   ]
  },
  {
   "cell_type": "code",
   "execution_count": 16,
   "id": "37d7d44c",
   "metadata": {},
   "outputs": [],
   "source": [
    "import os\n",
    "import numpy as np"
   ]
  },
  {
   "cell_type": "code",
   "execution_count": 32,
   "id": "2b7e0d90",
   "metadata": {},
   "outputs": [],
   "source": [
    "BASE_DIR = os.path.join('.', 'data')\n",
    "classes = os.listdir(BASE_DIR)\n",
    "n_classes = len(classes)"
   ]
  },
  {
   "cell_type": "code",
   "execution_count": 33,
   "id": "c98e6c72",
   "metadata": {},
   "outputs": [
    {
     "name": "stdout",
     "output_type": "stream",
     "text": [
      "Base:  ./data\n",
      "Classes are:  ['clock', 'telephone', 'chair']\n",
      "Number of classes:  3\n"
     ]
    }
   ],
   "source": [
    "print(\"Base: \", BASE_DIR)\n",
    "print(\"Classes are: \", classes)\n",
    "print(\"Number of classes: \", n_classes)"
   ]
  },
  {
   "cell_type": "code",
   "execution_count": 34,
   "id": "827eb4e7",
   "metadata": {},
   "outputs": [],
   "source": [
    "def get_files_number(path):\n",
    "    counter = 0\n",
    "    for file in os.listdir(path):\n",
    "        if os.path.isfile(os.path.join(path, file)):\n",
    "            counter += 1\n",
    "    \n",
    "    return counter"
   ]
  },
  {
   "cell_type": "code",
   "execution_count": 35,
   "id": "8172055f",
   "metadata": {},
   "outputs": [],
   "source": [
    "all_path = []\n",
    "\n",
    "def provide_path(dir_list):\n",
    "    for i, class_ in enumerate(dir_list):\n",
    "        path = os.path.join(BASE_DIR, class_)\n",
    "        all_path.append(path)    "
   ]
  },
  {
   "cell_type": "code",
   "execution_count": 36,
   "id": "85fe8289",
   "metadata": {},
   "outputs": [],
   "source": [
    "provide_path(classes)"
   ]
  },
  {
   "cell_type": "code",
   "execution_count": 37,
   "id": "4c678e6d",
   "metadata": {},
   "outputs": [],
   "source": [
    "total_dir_images = []\n",
    "\n",
    "def print_files_data(dir_list):\n",
    "    for i in range(len(dir_list)):\n",
    "        n_files = get_files_number(all_path[i])\n",
    "        total_dir_images.append(n_files)\n",
    "        print(\"Total images for\", dir_list[i] ,\":\", n_files)        "
   ]
  },
  {
   "cell_type": "code",
   "execution_count": 38,
   "id": "4f3e45d8",
   "metadata": {},
   "outputs": [
    {
     "name": "stdout",
     "output_type": "stream",
     "text": [
      "Total images for clock : 1608\n",
      "Total images for telephone : 1778\n",
      "Total images for chair : 1818\n"
     ]
    }
   ],
   "source": [
    "print_files_data(classes)"
   ]
  },
  {
   "cell_type": "markdown",
   "id": "226c67b7",
   "metadata": {},
   "source": [
    "## Remove redundant images"
   ]
  },
  {
   "cell_type": "markdown",
   "id": "d289ee8b",
   "metadata": {},
   "source": [
    "Keep 1600 images for each classe"
   ]
  },
  {
   "cell_type": "code",
   "execution_count": 39,
   "id": "73fb2afb",
   "metadata": {},
   "outputs": [],
   "source": [
    "from random import sample\n",
    "\n",
    "TOTAL_IMAGE_NEEDED = 1600\n",
    "for i, path in enumerate(all_path):\n",
    "    for file in sample(os.listdir(path), total_dir_images[i] - TOTAL_IMAGE_NEEDED):\n",
    "        os.remove(os.path.join(path,file))"
   ]
  },
  {
   "cell_type": "code",
   "execution_count": 40,
   "id": "4da9cdf3",
   "metadata": {},
   "outputs": [
    {
     "name": "stdout",
     "output_type": "stream",
     "text": [
      "Total images for clock : 1600\n",
      "Total images for telephone : 1600\n",
      "Total images for chair : 1600\n"
     ]
    }
   ],
   "source": [
    "print_files_data(classes)"
   ]
  },
  {
   "cell_type": "markdown",
   "id": "bed48e18",
   "metadata": {},
   "source": [
    "## Train, Test, Validation"
   ]
  },
  {
   "cell_type": "code",
   "execution_count": 41,
   "id": "7b10d536",
   "metadata": {},
   "outputs": [],
   "source": [
    "def move_files(files, path, dist):\n",
    "    for file in files:\n",
    "        full_path = os.path.join(path, file)\n",
    "        shutil.move(full_path, dist)"
   ]
  },
  {
   "cell_type": "code",
   "execution_count": 42,
   "id": "ab0b9fa3",
   "metadata": {},
   "outputs": [],
   "source": [
    "def make_class_dirs(path):\n",
    "    for class_ in classes:\n",
    "        os.makedirs(os.path.join(path, class_), exist_ok=True)"
   ]
  },
  {
   "cell_type": "code",
   "execution_count": 43,
   "id": "916b2eeb",
   "metadata": {},
   "outputs": [],
   "source": [
    "import shutil\n",
    "def train_test_val_split(path, test_ratio, train_dist, test_dist, val_dist):\n",
    "    os.makedirs(train_dist, exist_ok=True)\n",
    "    os.makedirs(test_dist, exist_ok=True)\n",
    "    os.makedirs(val_dist, exist_ok=True)\n",
    "    \n",
    "    make_class_dirs(train_dist)\n",
    "    make_class_dirs(test_dist)\n",
    "    make_class_dirs(val_dist)\n",
    "    \n",
    "    class_ = path.split('/')[-1]\n",
    "    \n",
    "    all_files = os.listdir(path)\n",
    "    np.random.shuffle(all_files)\n",
    "    train_size = int(len(all_files)* (1 - 2*test_ratio))\n",
    "    test_size = int(len(all_files)* (test_ratio))\n",
    "    train_files, val_files, test_files,  = np.split(np.array(all_files),\n",
    "                                       [train_size, test_size+train_size])\n",
    "    \n",
    "    move_files(train_files, path, os.path.join(train_dist, class_))\n",
    "    move_files(test_files, path, os.path.join(test_dist, class_))\n",
    "    move_files(val_files, path, os.path.join(val_dist, class_))"
   ]
  },
  {
   "cell_type": "code",
   "execution_count": 44,
   "id": "0d54ecf9",
   "metadata": {},
   "outputs": [],
   "source": [
    "#path variable is a path to class folder\n",
    "for path in all_path:\n",
    "    train_test_val_split(path, \n",
    "                         .14,      # split 20% from each class for validation and test\n",
    "                                   # in this case it has to be 14%\n",
    "                         os.path.join(BASE_DIR, 'train'),\n",
    "                         os.path.join(BASE_DIR, 'test'),\n",
    "                         os.path.join(BASE_DIR, 'val'))"
   ]
  },
  {
   "cell_type": "code",
   "execution_count": 45,
   "id": "1c0087fe",
   "metadata": {},
   "outputs": [],
   "source": [
    "!rm -r data/{chair,telephone,clock}"
   ]
  },
  {
   "cell_type": "code",
   "execution_count": 46,
   "id": "fb5e074c",
   "metadata": {},
   "outputs": [
    {
     "name": "stdout",
     "output_type": "stream",
     "text": [
      "Total images in val : 672\n",
      "Total images in train : 3456\n",
      "Total images in test : 672\n"
     ]
    }
   ],
   "source": [
    "sets = os.listdir(BASE_DIR)\n",
    "for set_ in sets:\n",
    "    counter = 0\n",
    "    for class_ in classes:\n",
    "        counter += get_files_number(os.path.join(BASE_DIR, set_, class_))\n",
    "        \n",
    "    print(\"Total images in\",set_,\":\",counter)"
   ]
  }
 ],
 "metadata": {
  "kernelspec": {
   "display_name": "Python 3 (ipykernel)",
   "language": "python",
   "name": "python3"
  },
  "language_info": {
   "codemirror_mode": {
    "name": "ipython",
    "version": 3
   },
   "file_extension": ".py",
   "mimetype": "text/x-python",
   "name": "python",
   "nbconvert_exporter": "python",
   "pygments_lexer": "ipython3",
   "version": "3.8.10"
  }
 },
 "nbformat": 4,
 "nbformat_minor": 5
}
